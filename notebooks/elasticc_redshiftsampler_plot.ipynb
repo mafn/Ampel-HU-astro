{
 "cells": [
  {
   "cell_type": "markdown",
   "id": "9922026e",
   "metadata": {},
   "source": [
    "Investigate how well the final report unit works.\n",
    "- Retrieve T2ElasticcReport output (possibly together with redshift and ndet.\n",
    "- Select one of the elasticc submission channel.\n",
    "- Find out which simulation classes this corresponded to.\n",
    "- For channels correspond to these:\n",
    "- Study the fraction of all the different models. Possibly also do this as a function of\n",
    "number of detections and/or redshift."
   ]
  },
  {
   "cell_type": "code",
   "execution_count": null,
   "id": "adf790ae",
   "metadata": {},
   "outputs": [],
   "source": [
    "import pymongo\n",
    "import numpy as np\n",
    "import pandas as pd\n",
    "import matplotlib.pyplot as plt\n",
    "from extcats import CatalogQuery\n",
    "from scipy.stats import binned_statistic"
   ]
  },
  {
   "cell_type": "code",
   "execution_count": null,
   "id": "02b08c9e",
   "metadata": {},
   "outputs": [],
   "source": [
    "client = pymongo.MongoClient()"
   ]
  },
  {
   "cell_type": "code",
   "execution_count": null,
   "id": "a88b02e8",
   "metadata": {},
   "outputs": [],
   "source": [
    "db = client.ElasticcReportValidation"
   ]
  },
  {
   "cell_type": "code",
   "execution_count": null,
   "id": "5bbafa01",
   "metadata": {},
   "outputs": [],
   "source": [
    "col = db.t2"
   ]
  },
  {
   "cell_type": "code",
   "execution_count": null,
   "id": "17f689b5",
   "metadata": {},
   "outputs": [],
   "source": [
    "# Get the same z information as XGB.\n",
    "def get_zinfo(t2_res):\n",
    "    '''\n",
    "    Extract the same redshift information as what is used by elasticc units.\n",
    "    '''\n",
    "    # For some reason we trained xgb using z, zerr and host_sep\n",
    "    zdata = {}\n",
    "    \n",
    "    if t2_res['z_source'] in ['HOSTGAL2_ZQUANT', 'HOSTGAL_ZQUANT', 'HOSTGAL_ZSPEC', 'default']:\n",
    "                        \n",
    "        # This was the sampling used for job_training\n",
    "        if len(t2_res['z_samples'])==3:\n",
    "            zdata['z'] = t2_res['z_samples'][1]\n",
    "            zdata['z_err'] = t2_res['z_samples'][1] - t2_res['z_samples'][0]\n",
    "            zdata['host_sep'] = t2_res['host_sep']\n",
    "        elif len(t2_res['z_samples'])==4 and t2_res['z_samples'][0]==0.01:\n",
    "            print('hostless')\n",
    "            zdata = {'z':None, 'z_err':None, 'host_sep': None}\n",
    "        else:\n",
    "            print('whaaat')\n",
    "            print(t2_res)\n",
    "            raise ValueError\n",
    "            \n",
    "    else:\n",
    "        print('whiiit')\n",
    "        print(t2_res)\n",
    "        raise ValueError\n",
    "        \n",
    "    return zdata\n"
   ]
  },
  {
   "cell_type": "code",
   "execution_count": null,
   "id": "fd813760",
   "metadata": {},
   "outputs": [],
   "source": [
    "reports = []"
   ]
  },
  {
   "cell_type": "code",
   "execution_count": null,
   "id": "55748bfe",
   "metadata": {},
   "outputs": [],
   "source": [
    "for t2info in col.find({'unit':'T2ElasticcRedshiftSampler'}):\n",
    "    b = {}\n",
    "    b['stock'] = t2info['stock']\n",
    "    b['channel'] = t2info['channel'][0]\n",
    "    if 'body' not in t2info.keys():\n",
    "        print('Failed run - enough to care about?')\n",
    "        print(t2info)\n",
    "        continue\n",
    "    zinfo = get_zinfo(t2info['body'][-1])\n",
    "    \n",
    "    b.update(zinfo)\n",
    "    \n",
    "    reports.append( b )"
   ]
  },
  {
   "cell_type": "code",
   "execution_count": null,
   "id": "7fdf0cec",
   "metadata": {},
   "outputs": [],
   "source": [
    "df_rep = pd.DataFrame.from_dict(reports)"
   ]
  },
  {
   "cell_type": "code",
   "execution_count": null,
   "id": "b141c75f",
   "metadata": {},
   "outputs": [],
   "source": [
    "df_rep.shape"
   ]
  },
  {
   "cell_type": "code",
   "execution_count": null,
   "id": "66393fb6",
   "metadata": {},
   "outputs": [],
   "source": [
    "df_rep['channel'].unique()"
   ]
  },
  {
   "cell_type": "code",
   "execution_count": null,
   "id": "552cdb43",
   "metadata": {},
   "outputs": [],
   "source": [
    "modelmap = {'agn':'AGN', 'cart':'CART','ulenssinglepylima':'uLens', 'slsnihost':'SLSN', \n",
    " 'dwarfnova':'dwarf-nova', 'ulensbinary':'uLens', 'slsninohost':'SLSN', 'eb':'EB',\n",
    "    'snia91bg':'SNIa91bg', 'ulenssinglegenlens':'uLens', 'sniasalt2':'SNIa', 'ilot':'ILOT', \n",
    " 'sniax':'SNIax', 'tde':'TDE', 'knb19':'KN',\n",
    "       'sniibhostxtv19':'SNII', 'knk17':'KN', 'snibhostxtv19':'SNIbc', \n",
    " 'mdwarfflare':'Mdwarf-flare', 'pisn':'PISN',\n",
    "       'sniitemplates':'SNII', 'rrl':'RRL', 'snibtemplates':'SNIbc', 'snicblhostxtv19':'SNIbc',\n",
    "       'snichostxtv19':'SNIbc', 'snictemplates':'SNIbc', 'sniihostxtv19':'SNII',\n",
    "       'sniinhostxtv19':'SNII', 'sniinmf':'SNII', 'sniinmosfit':'SNII', 'dsct':'DSC', \n",
    " 'cepheid':'Cepheid'}"
   ]
  },
  {
   "cell_type": "code",
   "execution_count": null,
   "id": "ed22a13c",
   "metadata": {},
   "outputs": [],
   "source": [
    "df_rep['model'] = df_rep['channel'].map(modelmap)"
   ]
  },
  {
   "cell_type": "code",
   "execution_count": null,
   "id": "e1f0784a",
   "metadata": {},
   "outputs": [],
   "source": [
    "df_rep"
   ]
  },
  {
   "cell_type": "markdown",
   "id": "73a42b4b",
   "metadata": {},
   "source": [
    "First question - for each model, how many objects and what fraction of these have redshifts?"
   ]
  },
  {
   "cell_type": "code",
   "execution_count": null,
   "id": "95e1bb65",
   "metadata": {},
   "outputs": [],
   "source": [
    "for model in df_rep['model'].unique():\n",
    "    z = df_rep['z'][df_rep['model']==model]\n",
    "    is_z = (z>0)\n",
    "    print(model, len(z), sum(is_z))"
   ]
  },
  {
   "cell_type": "code",
   "execution_count": null,
   "id": "5e5594b4",
   "metadata": {},
   "outputs": [],
   "source": [
    "for model in df_rep['model'].unique():\n",
    "    z = df_rep['z'][df_rep['model']==model]\n",
    "    is_z = (z>0)\n",
    "    if sum(is_z)==0:\n",
    "        print('... no redshifts, no need to plot.')\n",
    "        continue\n",
    "\n",
    "        \n",
    "    plt.figure()\n",
    "    plt.title(model)\n",
    "    plt.hist(z[is_z], bins=20)\n",
    "    plt.xlabel('z')\n",
    "    plt.show()"
   ]
  },
  {
   "cell_type": "code",
   "execution_count": null,
   "id": "fd3e4c57",
   "metadata": {},
   "outputs": [],
   "source": [
    "bins = np.arange(-0.0901,3.5,0.1)"
   ]
  },
  {
   "cell_type": "code",
   "execution_count": null,
   "id": "b3f7e859",
   "metadata": {},
   "outputs": [],
   "source": [
    "bins"
   ]
  },
  {
   "cell_type": "code",
   "execution_count": null,
   "id": "9ef6ebcb",
   "metadata": {},
   "outputs": [],
   "source": [
    "for model in df_rep['model'].unique():\n",
    "    z = df_rep['z'][df_rep['model']==model]\n",
    "    is_z = (z>0)\n",
    "    if sum(is_z)==0:\n",
    "        print('... no redshifts, no need to plot.')\n",
    "        continue\n",
    "\n",
    "        \n",
    "    plt.figure()\n",
    "    plt.title(model)\n",
    "    plt.hist(z[is_z], bins=bins)\n",
    "    plt.xlabel('z')\n",
    "    plt.show()"
   ]
  },
  {
   "cell_type": "code",
   "execution_count": null,
   "id": "6c6de2da",
   "metadata": {},
   "outputs": [],
   "source": [
    "for model in df_rep['model'].unique():\n",
    "    z = df_rep['z'][df_rep['model']==model]\n",
    "    is_z = (z>0)\n",
    "    if sum(is_z)==0:\n",
    "        print('... no redshifts, no need to plot.')\n",
    "        continue\n",
    "\n",
    "        \n",
    "    plt.figure()\n",
    "    plt.title(model)\n",
    "    plt.hist(z[is_z], bins=bins, density=True, stacked=True)\n",
    "    plt.xlabel('z')\n",
    "    plt.show()"
   ]
  },
  {
   "cell_type": "code",
   "execution_count": null,
   "id": "f9dbfd68",
   "metadata": {},
   "outputs": [],
   "source": [
    "plt.figure()\n",
    "\n",
    "\n",
    "for model in df_rep['model'].unique():\n",
    "    z = df_rep['z'][df_rep['model']==model]\n",
    "    is_z = (z>0)\n",
    "    if sum(is_z)==0:\n",
    "        print('... no redshifts, no need to plot.')\n",
    "        #continue\n",
    "\n",
    "    plt.hist(z, bins=bins, density=False, stacked=False, label=model)\n",
    "plt.legend(loc='best')\n",
    "plt.xlabel('z')\n",
    "plt.show()"
   ]
  },
  {
   "cell_type": "markdown",
   "id": "2822625c",
   "metadata": {},
   "source": [
    "Next stage: Try to evalute one of the models."
   ]
  },
  {
   "cell_type": "code",
   "execution_count": null,
   "id": "d463aaa1",
   "metadata": {},
   "outputs": [],
   "source": [
    "from sklearn.neighbors import KernelDensity"
   ]
  },
  {
   "cell_type": "code",
   "execution_count": null,
   "id": "d6ec72a7",
   "metadata": {},
   "outputs": [],
   "source": [
    "z = df_rep['z'][df_rep['model']=='AGN']\n",
    "is_z = (z>0)"
   ]
  },
  {
   "cell_type": "code",
   "execution_count": null,
   "id": "150a64b7",
   "metadata": {},
   "outputs": [],
   "source": [
    "kde = KernelDensity(bandwidth=0.15, kernel='gaussian')"
   ]
  },
  {
   "cell_type": "code",
   "execution_count": null,
   "id": "e2902b92",
   "metadata": {},
   "outputs": [],
   "source": [
    "modprobs = {}\n",
    "for model in df_rep['model'].unique():\n",
    "    z = df_rep['z'][df_rep['model']==model]\n",
    "    is_z = (z>0)\n",
    "\n",
    "    # Only attempt for non-recurring?\n",
    "    if model not in ['CART', 'uLens', 'SLSN', 'dwarf-nova', 'SNIa91bg', 'SNIa','ILOT', 'SNIax', 'TDE', 'KN', 'SNII', 'SNIbc', 'Mdwarf-flare', 'PISN']:\n",
    "        continue\n",
    "    \n",
    "    if sum(is_z)==0:\n",
    "        print('... no redshifts, no need to plot.')\n",
    "        \n",
    "        modprobs[model] = np.zeros(len(bins))\n",
    "        modprobs[model][0] = 1. / (bins[1]-bins[0])\n",
    "        \n",
    "        continue\n",
    "\n",
    "    kde.fit(z[is_z][:,None])\n",
    "    logprob = kde.score_samples(bins[:, None])\n",
    "    modprobs[model] = np.exp(logprob)\n",
    "    \n",
    "    plt.figure()\n",
    "    plt.title(model)\n",
    "    \n",
    "    plt.fill_between(bins, np.exp(logprob), alpha=0.5)\n",
    "    \n",
    "    plt.hist(z[is_z], bins=bins, density=True, stacked=False)\n",
    "    plt.xlabel('z')\n",
    "    plt.show()"
   ]
  },
  {
   "cell_type": "code",
   "execution_count": null,
   "id": "2bcdb9fa",
   "metadata": {},
   "outputs": [],
   "source": [
    "modprobs"
   ]
  },
  {
   "cell_type": "code",
   "execution_count": null,
   "id": "ade642a4",
   "metadata": {},
   "outputs": [],
   "source": [
    "df_mod = pd.DataFrame.from_dict(modprobs)"
   ]
  },
  {
   "cell_type": "code",
   "execution_count": null,
   "id": "1572b1c5",
   "metadata": {},
   "outputs": [],
   "source": [
    "df_mod.shape"
   ]
  },
  {
   "cell_type": "code",
   "execution_count": null,
   "id": "4e951339",
   "metadata": {},
   "outputs": [],
   "source": [
    "df_mod.iloc[zbin]"
   ]
  },
  {
   "cell_type": "code",
   "execution_count": null,
   "id": "5c03c879",
   "metadata": {},
   "outputs": [],
   "source": [
    "tprob = np.array( df_mod.sum(axis=1) )"
   ]
  },
  {
   "cell_type": "code",
   "execution_count": null,
   "id": "94824384",
   "metadata": {},
   "outputs": [],
   "source": [
    "tprob"
   ]
  },
  {
   "cell_type": "code",
   "execution_count": null,
   "id": "5d76ef2f",
   "metadata": {},
   "outputs": [],
   "source": [
    "df_foo = df_mod.transpose()  / tprob"
   ]
  },
  {
   "cell_type": "code",
   "execution_count": null,
   "id": "64a59ff9",
   "metadata": {},
   "outputs": [],
   "source": [
    "df_mod = df_foo.transpose()"
   ]
  },
  {
   "cell_type": "code",
   "execution_count": null,
   "id": "ffea410d",
   "metadata": {},
   "outputs": [],
   "source": [
    "# Ok, lets take a best fit redshift\n",
    "z = 1.5\n",
    "# Which bin? \n",
    "zbin = int( (z + 0.09) / 0.1 )\n",
    "print(zbin)"
   ]
  },
  {
   "cell_type": "code",
   "execution_count": null,
   "id": "50c7a6ea",
   "metadata": {},
   "outputs": [],
   "source": [
    "df_mod.iloc[zbin]"
   ]
  },
  {
   "cell_type": "code",
   "execution_count": null,
   "id": "f31528d6",
   "metadata": {},
   "outputs": [],
   "source": [
    "df_mod"
   ]
  },
  {
   "cell_type": "code",
   "execution_count": null,
   "id": "a1cec4d1",
   "metadata": {},
   "outputs": [],
   "source": [
    "df_procent = df_mod * 1000"
   ]
  },
  {
   "cell_type": "code",
   "execution_count": null,
   "id": "99c54ca3",
   "metadata": {},
   "outputs": [],
   "source": [
    "df_zmap = df_procent.astype(int)"
   ]
  },
  {
   "cell_type": "code",
   "execution_count": null,
   "id": "9a944dba",
   "metadata": {},
   "outputs": [],
   "source": [
    "print( df_zmap.to_dict() )"
   ]
  },
  {
   "cell_type": "code",
   "execution_count": null,
   "id": "7414ee04",
   "metadata": {},
   "outputs": [],
   "source": [
    "zmap = {'CART': {0: 9, 1: 124, 2: 135, 3: 143, 4: 143, 5: 127, 6: 97, 7: 62, 8: 33, 9: 16, 10: 8, 11: 6, 12: 6, 13: 5, 14: 5, 15: 6, 16: 7, 17: 6, 18: 3, 19: 1, 20: 0, 21: 0, 22: 0, 23: 0, 24: 0, 25: 0, 26: 0, 27: 0, 28: 0, 29: 0, 30: 0, 31: 0, 32: 0, 33: 0, 34: 0, 35: 0}, 'uLens': {0: 304, 1: 0, 2: 0, 3: 0, 4: 0, 5: 0, 6: 0, 7: 0, 8: 0, 9: 0, 10: 0, 11: 0, 12: 0, 13: 0, 14: 0, 15: 0, 16: 0, 17: 0, 18: 0, 19: 0, 20: 0, 21: 0, 22: 0, 23: 0, 24: 0, 25: 0, 26: 0, 27: 0, 28: 0, 29: 0, 30: 0, 31: 0, 32: 0, 33: 0, 34: 0, 35: 0}, 'SLSN': {0: 0, 1: 1, 2: 2, 3: 3, 4: 5, 5: 11, 6: 20, 7: 35, 8: 55, 9: 80, 10: 112, 11: 153, 12: 215, 13: 307, 14: 421, 15: 536, 16: 645, 17: 746, 18: 827, 19: 879, 20: 911, 21: 936, 22: 958, 23: 976, 24: 988, 25: 995, 26: 998, 27: 999, 28: 999, 29: 999, 30: 999, 31: 999, 32: 999, 33: 999, 34: 999, 35: 999}, 'dwarf-nova': {0: 304, 1: 0, 2: 0, 3: 0, 4: 0, 5: 0, 6: 0, 7: 0, 8: 0, 9: 0, 10: 0, 11: 0, 12: 0, 13: 0, 14: 0, 15: 0, 16: 0, 17: 0, 18: 0, 19: 0, 20: 0, 21: 0, 22: 0, 23: 0, 24: 0, 25: 0, 26: 0, 27: 0, 28: 0, 29: 0, 30: 0, 31: 0, 32: 0, 33: 0, 34: 0, 35: 0}, 'SNIa91bg': {0: 5, 1: 78, 2: 100, 3: 127, 4: 151, 5: 156, 6: 132, 7: 88, 8: 45, 9: 17, 10: 6, 11: 3, 12: 2, 13: 2, 14: 1, 15: 0, 16: 0, 17: 0, 18: 0, 19: 0, 20: 0, 21: 0, 22: 0, 23: 0, 24: 0, 25: 0, 26: 0, 27: 0, 28: 0, 29: 0, 30: 0, 31: 0, 32: 0, 33: 0, 34: 0, 35: 0}, 'SNIa': {0: 1, 1: 19, 2: 26, 3: 39, 4: 60, 5: 92, 6: 134, 7: 181, 8: 217, 9: 225, 10: 200, 11: 150, 12: 93, 13: 48, 14: 23, 15: 11, 16: 5, 17: 2, 18: 0, 19: 0, 20: 0, 21: 0, 22: 0, 23: 0, 24: 0, 25: 0, 26: 0, 27: 0, 28: 0, 29: 0, 30: 0, 31: 0, 32: 0, 33: 0, 34: 0, 35: 0}, 'ILOT': {0: 24, 1: 257, 2: 223, 3: 173, 4: 114, 5: 59, 6: 23, 7: 6, 8: 1, 9: 0, 10: 0, 11: 0, 12: 0, 13: 0, 14: 0, 15: 0, 16: 0, 17: 0, 18: 0, 19: 0, 20: 0, 21: 0, 22: 0, 23: 0, 24: 0, 25: 0, 26: 0, 27: 0, 28: 0, 29: 0, 30: 0, 31: 0, 32: 0, 33: 0, 34: 0, 35: 0}, 'SNIax': {0: 4, 1: 64, 2: 77, 3: 95, 4: 116, 5: 136, 6: 145, 7: 137, 8: 111, 9: 77, 10: 46, 11: 23, 12: 9, 13: 3, 14: 1, 15: 1, 16: 1, 17: 2, 18: 1, 19: 0, 20: 0, 21: 0, 22: 0, 23: 0, 24: 0, 25: 0, 26: 0, 27: 0, 28: 0, 29: 0, 30: 0, 31: 0, 32: 0, 33: 0, 34: 0, 35: 0}, 'TDE': {0: 3, 1: 46, 2: 56, 3: 69, 4: 84, 5: 100, 6: 113, 7: 123, 8: 133, 9: 141, 10: 145, 11: 142, 12: 130, 13: 108, 14: 83, 15: 63, 16: 50, 17: 43, 18: 38, 19: 34, 20: 30, 21: 25, 22: 20, 23: 14, 24: 9, 25: 4, 26: 1, 27: 0, 28: 0, 29: 0, 30: 0, 31: 0, 32: 0, 33: 0, 34: 0, 35: 0}, 'KN': {0: 29, 1: 293, 2: 234, 3: 166, 4: 98, 5: 45, 6: 15, 7: 3, 8: 0, 9: 0, 10: 0, 11: 0, 12: 0, 13: 0, 14: 0, 15: 0, 16: 0, 17: 0, 18: 0, 19: 0, 20: 0, 21: 0, 22: 0, 23: 0, 24: 0, 25: 0, 26: 0, 27: 0, 28: 0, 29: 0, 30: 0, 31: 0, 32: 0, 33: 0, 34: 0, 35: 0}, 'SNII': {0: 3, 1: 47, 2: 59, 3: 75, 4: 94, 5: 112, 6: 126, 7: 131, 8: 127, 9: 117, 10: 105, 11: 95, 12: 86, 13: 77, 14: 70, 15: 66, 16: 63, 17: 59, 18: 48, 19: 33, 20: 21, 21: 11, 22: 5, 23: 2, 24: 0, 25: 0, 26: 0, 27: 0, 28: 0, 29: 0, 30: 0, 31: 0, 32: 0, 33: 0, 34: 0, 35: 0}, 'SNIbc': {0: 4, 1: 60, 2: 73, 3: 89, 4: 105, 5: 119, 6: 127, 7: 128, 8: 121, 9: 107, 10: 90, 11: 72, 12: 53, 13: 36, 14: 25, 15: 18, 16: 13, 17: 8, 18: 3, 19: 1, 20: 0, 21: 0, 22: 0, 23: 0, 24: 0, 25: 0, 26: 0, 27: 0, 28: 0, 29: 0, 30: 0, 31: 0, 32: 0, 33: 0, 34: 0, 35: 0}, 'Mdwarf-flare': {0: 304, 1: 0, 2: 0, 3: 0, 4: 0, 5: 0, 6: 0, 7: 0, 8: 0, 9: 0, 10: 0, 11: 0, 12: 0, 13: 0, 14: 0, 15: 0, 16: 0, 17: 0, 18: 0, 19: 0, 20: 0, 21: 0, 22: 0, 23: 0, 24: 0, 25: 0, 26: 0, 27: 0, 28: 0, 29: 0, 30: 0, 31: 0, 32: 0, 33: 0, 34: 0, 35: 0}, 'PISN': {0: 0, 1: 7, 2: 10, 3: 16, 4: 24, 5: 38, 6: 62, 7: 100, 8: 152, 9: 215, 10: 284, 11: 352, 12: 401, 13: 409, 14: 368, 15: 296, 16: 211, 17: 131, 18: 76, 19: 49, 20: 36, 21: 26, 22: 15, 23: 6, 24: 1, 25: 0, 26: 0, 27: 0, 28: 0, 29: 0, 30: 0, 31: 0, 32: 0, 33: 0, 34: 0, 35: 0}}"
   ]
  },
  {
   "cell_type": "markdown",
   "id": "3d0b26e6",
   "metadata": {},
   "source": [
    "Side study - out of all runs without an answer, what are they?"
   ]
  },
  {
   "cell_type": "code",
   "execution_count": null,
   "id": "e22275af",
   "metadata": {},
   "outputs": [],
   "source": [
    "df_test = pd.DataFrame.from_dict(zmap)"
   ]
  },
  {
   "cell_type": "code",
   "execution_count": null,
   "id": "7b8b41bd",
   "metadata": {},
   "outputs": [],
   "source": [
    "df_test"
   ]
  },
  {
   "cell_type": "code",
   "execution_count": null,
   "id": "000a396b",
   "metadata": {},
   "outputs": [],
   "source": [
    "# Ok, lets take a best fit redshift\n",
    "z = 0.2\n",
    "# Which bin? \n",
    "zbin = int( (z + 0.09) / 0.1 )\n",
    "print(zbin)"
   ]
  },
  {
   "cell_type": "code",
   "execution_count": null,
   "id": "c7350474",
   "metadata": {},
   "outputs": [],
   "source": [
    "df_test.iloc[zbin] / 1000"
   ]
  },
  {
   "cell_type": "code",
   "execution_count": null,
   "id": "ac87efbd",
   "metadata": {},
   "outputs": [],
   "source": [
    "for mod in zmap.keys():\n",
    "    print(mod, zmap[mod][zbin] / 1000 )\n",
    "    "
   ]
  },
  {
   "cell_type": "markdown",
   "id": "2fb7277f",
   "metadata": {},
   "source": [
    "We now investigate a rate prior, based on BTS:\n",
    "https://arxiv.org/pdf/2009.01242.pdf\n",
    "\n",
    "We use the bright end (<18.5) relative rates. No idea whether this makes sense, but should not this brightness limited sample be the same as we expect at any cut?"
   ]
  },
  {
   "cell_type": "code",
   "execution_count": null,
   "id": "f0007282",
   "metadata": {},
   "outputs": [],
   "source": [
    "# <18.5 cut\n",
    "bts = {'SNIa':875, 'uLens':4, 'SLSN':19, 'dwarf-nova':4, 'SNIa91bg':0, 'ILOT':4, 'SNIax':0, 'TDE':5, 'KN':2, 'SNII':218, 'SNIbc':76, 'Mdwarf-flare':4, 'PISN':2, 'CART':4}"
   ]
  },
  {
   "cell_type": "code",
   "execution_count": null,
   "id": "e9ed592d",
   "metadata": {},
   "outputs": [],
   "source": [
    "# Grabbed a late list of all SNIa, < 18.5 from bts\n",
    "df_bts = pd.read_csv('/home/jnordin/tmp/btstmp.csv')"
   ]
  },
  {
   "cell_type": "code",
   "execution_count": null,
   "id": "f6fc262f",
   "metadata": {},
   "outputs": [],
   "source": [
    "counts = df_bts.groupby(by='type').count()['ZTFID']"
   ]
  },
  {
   "cell_type": "code",
   "execution_count": null,
   "id": "966a7428",
   "metadata": {},
   "outputs": [],
   "source": [
    "# Allow peculiars to be either, and add 91T to normal, and ignore SC\n",
    "cnorm = counts['SN Ia'] + counts['SN Ia-91T']\n",
    "cbg = counts['SN Ia-91bg'] + counts['SN Ia-pec']\n",
    "cx = counts['SN Iax'] + counts['SN Ia-pec']\n",
    "counts"
   ]
  },
  {
   "cell_type": "code",
   "execution_count": null,
   "id": "194a3039",
   "metadata": {},
   "outputs": [],
   "source": [
    "frac_91bg = cbg / cnorm\n",
    "frac_x = cx / cnorm"
   ]
  },
  {
   "cell_type": "code",
   "execution_count": null,
   "id": "ecf94123",
   "metadata": {},
   "outputs": [],
   "source": [
    "print(frac_91bg, frac_x)"
   ]
  },
  {
   "cell_type": "markdown",
   "id": "f3eb4bd7",
   "metadata": {},
   "source": [
    "We can thus _estimate_ that the _observed_ rate of both subtypes are around 1%."
   ]
  },
  {
   "cell_type": "code",
   "execution_count": null,
   "id": "233f9915",
   "metadata": {},
   "outputs": [],
   "source": [
    "bts['SNIa91bg'] = bts['SNIa'] * 0.01\n",
    "bts['SNIax'] = bts['SNIa'] * 0.01\n",
    "bts['SNIa'] = bts['SNIa'] * 0.98  # Petty, but why not?"
   ]
  },
  {
   "cell_type": "code",
   "execution_count": null,
   "id": "610bc4b8",
   "metadata": {},
   "outputs": [],
   "source": [
    "# Normalize\n",
    "n = sum( [v for v in bts.values()] )\n",
    "print(n)"
   ]
  },
  {
   "cell_type": "code",
   "execution_count": null,
   "id": "cc2ed223",
   "metadata": {},
   "outputs": [],
   "source": [
    "nbts = {}\n",
    "for k, v in bts.items():\n",
    "    nbts[k] = v/n"
   ]
  },
  {
   "cell_type": "code",
   "execution_count": null,
   "id": "073164ad",
   "metadata": {},
   "outputs": [],
   "source": [
    "# To not make things impossible, we add a lower floor at 1%\n",
    "fbts = {}\n",
    "for k, v in nbts.items():\n",
    "    if v>0.01:\n",
    "        fbts[k] = v\n",
    "    else:\n",
    "        fbts[k] = 0.01"
   ]
  },
  {
   "cell_type": "code",
   "execution_count": null,
   "id": "164f99f8",
   "metadata": {},
   "outputs": [],
   "source": [
    "fbts"
   ]
  },
  {
   "cell_type": "code",
   "execution_count": null,
   "id": "b53d4111",
   "metadata": {},
   "outputs": [],
   "source": [
    "# Normalize again (last time...)\n",
    "n = sum( [v for v in fbts.values()] )\n",
    "print(n)\n",
    "nbts = {}\n",
    "for k, v in fbts.items():\n",
    "    nbts[k] = v/n"
   ]
  },
  {
   "cell_type": "code",
   "execution_count": null,
   "id": "a26e10c1",
   "metadata": {},
   "outputs": [],
   "source": [
    "# Create scaled int version\n",
    "ibts = {}\n",
    "for k, v in nbts.items():\n",
    "    ibts[k] = int(v*1000)\n",
    "    if ibts[k]<10:\n",
    "        ibts[k] += 1   # (sum up to 10)"
   ]
  },
  {
   "cell_type": "code",
   "execution_count": null,
   "id": "74f4e29d",
   "metadata": {},
   "outputs": [],
   "source": [
    "sum( [v for v in ibts.values()] )"
   ]
  },
  {
   "cell_type": "code",
   "execution_count": null,
   "id": "61b7e09d",
   "metadata": {},
   "outputs": [],
   "source": [
    "print(ibts)"
   ]
  },
  {
   "cell_type": "code",
   "execution_count": null,
   "id": "dd45e7e8",
   "metadata": {},
   "outputs": [],
   "source": []
  }
 ],
 "metadata": {
  "kernelspec": {
   "display_name": "Python 3 (ipykernel)",
   "language": "python",
   "name": "python3"
  },
  "language_info": {
   "codemirror_mode": {
    "name": "ipython",
    "version": 3
   },
   "file_extension": ".py",
   "mimetype": "text/x-python",
   "name": "python",
   "nbconvert_exporter": "python",
   "pygments_lexer": "ipython3",
   "version": "3.9.12"
  }
 },
 "nbformat": 4,
 "nbformat_minor": 5
}
