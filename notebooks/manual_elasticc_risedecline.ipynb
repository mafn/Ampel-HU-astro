{
 "cells": [
  {
   "cell_type": "markdown",
   "id": "f832a705",
   "metadata": {},
   "source": [
    "Check if running direclty on alertfiles improve the processing speed."
   ]
  },
  {
   "cell_type": "code",
   "execution_count": null,
   "id": "88f52095",
   "metadata": {},
   "outputs": [],
   "source": [
    "from ampel.lsst.alert.load.ElasticcTrainingsetLoader import ElasticcTrainingsetLoader\n",
    "from ampel.lsst.alert.ElasticcAlertSupplier import ElasticcAlertSupplier\n",
    "from ampel.lsst.ingest.LSSTDataPointShaper import LSSTDataPointShaper\n",
    "from ampel.contrib.hu.t2.T2TabulatorRiseDecline import T2TabulatorRiseDecline\n",
    "from ampel.contrib.hu.t2.T2TabulatorRiseDecline import T2TabulatorRiseDeclineBase\n",
    "from ampel.contrib.hu.t2.T2ElasticcRedshiftSampler import T2ElasticcRedshiftSampler\n",
    "from ampel.dev.DevAmpelContext import DevAmpelContext\n",
    "from ampel.log.AmpelLogger import AmpelLogger\n",
    "\n",
    "from ampel.lsst.view.LSSTT2Tabulator import LSSTT2Tabulator\n",
    "import pandas as pd"
   ]
  },
  {
   "cell_type": "code",
   "execution_count": null,
   "id": "02a283f5",
   "metadata": {},
   "outputs": [],
   "source": [
    "model = 'AGN'\n",
    "run = 2"
   ]
  },
  {
   "cell_type": "code",
   "execution_count": null,
   "id": "57671d4f",
   "metadata": {},
   "outputs": [],
   "source": [
    "AMPEL_CONF = '/home/jnordin/github/zweilasticc/ampel_conf_d8539b.yaml'"
   ]
  },
  {
   "cell_type": "code",
   "execution_count": null,
   "id": "6ef6ad66",
   "metadata": {},
   "outputs": [],
   "source": [
    "ctx = DevAmpelContext.load(\n",
    "    config = AMPEL_CONF,\n",
    "    db_prefix = 'dumpme'\n",
    ")\n",
    "logger = AmpelLogger.get_logger()"
   ]
  },
  {
   "cell_type": "code",
   "execution_count": null,
   "id": "4f78ea02",
   "metadata": {},
   "outputs": [],
   "source": [
    "fpath = f'/home/jnordin/data/elasticc/full_elasticc_train/ELASTICC_TRAIN_{model}/ELASTICC_TRAIN_NONIaMODEL0-00{run:02d}'"
   ]
  },
  {
   "cell_type": "code",
   "execution_count": null,
   "id": "b133e64a",
   "metadata": {},
   "outputs": [],
   "source": [
    "# Configure an alert loader\n",
    "config = {'file_path': fpath}\n",
    "alertloader = ElasticcTrainingsetLoader(**config)"
   ]
  },
  {
   "cell_type": "code",
   "execution_count": null,
   "id": "8410fc28",
   "metadata": {},
   "outputs": [],
   "source": [
    "# Configure an alert supplier (not sure this is needed?)\n",
    "config = {'loader': {'unit':'ElasticcTrainingsetLoader', 'config':{'file_path':fpath}}}\n",
    "supplier = ElasticcAlertSupplier(**config)"
   ]
  },
  {
   "cell_type": "code",
   "execution_count": null,
   "id": "f92233cf",
   "metadata": {},
   "outputs": [],
   "source": [
    "shaper = LSSTDataPointShaper(logger=logger)"
   ]
  },
  {
   "cell_type": "code",
   "execution_count": null,
   "id": "32c477f3",
   "metadata": {},
   "outputs": [],
   "source": [
    "config = {'tabulator':[{'unit':'LSSTT2Tabulator', 'config':{'zp':27.5}}], 'logger': logger}\n",
    "t2rise = T2TabulatorRiseDecline(**config)"
   ]
  },
  {
   "cell_type": "code",
   "execution_count": null,
   "id": "64a17af6",
   "metadata": {},
   "outputs": [],
   "source": [
    "config = {'logger': logger}\n",
    "t2z = T2ElasticcRedshiftSampler(**config)"
   ]
  },
  {
   "cell_type": "code",
   "execution_count": null,
   "id": "8b880b1c",
   "metadata": {},
   "outputs": [],
   "source": [
    "summary = []\n",
    "hostinfo = {}"
   ]
  },
  {
   "cell_type": "code",
   "execution_count": null,
   "id": "6b8affba",
   "metadata": {},
   "outputs": [],
   "source": [
    "for k, alert in enumerate(supplier):\n",
    "    if k>1000:\n",
    "        break\n",
    "    \n",
    "    stock = alert.stock\n",
    "    dps = shaper.process(alert.datapoints, stock)\n",
    "    \n",
    "    risdec = t2rise.process({}, dps )\n",
    "    # Do not bloat with non-detection.\n",
    "    if not risdec['success']:\n",
    "        continue\n",
    "        \n",
    "    \n",
    "    summary.append( risdec )\n",
    "    \n",
    "    if not stock in hostinfo:\n",
    "        dpobj = [dp for dp in dps if 'LSST_OBJ' in dp['tag']]\n",
    "        hostinfo[stock] = t2z.process(dpobj[0] )\n",
    "\n",
    "    if len(summary) % 100==0:\n",
    "        print(len(summary))\n",
    "        print(summary[-1])"
   ]
  },
  {
   "cell_type": "code",
   "execution_count": null,
   "id": "c1b9946a",
   "metadata": {},
   "outputs": [],
   "source": [
    "print(len(summary))"
   ]
  },
  {
   "cell_type": "code",
   "execution_count": null,
   "id": "e80b4ece",
   "metadata": {},
   "outputs": [],
   "source": [
    "print(len(hostinfo))"
   ]
  },
  {
   "cell_type": "code",
   "execution_count": null,
   "id": "e69cba21",
   "metadata": {},
   "outputs": [],
   "source": [
    "dfh = pd.DataFrame.from_dict(hostinfo, orient='index')"
   ]
  },
  {
   "cell_type": "code",
   "execution_count": null,
   "id": "4f04319d",
   "metadata": {},
   "outputs": [],
   "source": [
    "outf = f'hostinfo_{model}_{run:02d}.csv'"
   ]
  },
  {
   "cell_type": "code",
   "execution_count": null,
   "id": "ba6ce0e3",
   "metadata": {},
   "outputs": [],
   "source": [
    "dfh.to_csv(outf)"
   ]
  },
  {
   "cell_type": "code",
   "execution_count": null,
   "id": "d2d1a60c",
   "metadata": {},
   "outputs": [],
   "source": [
    "dfs = pd.DataFrame.from_dict(summary)"
   ]
  },
  {
   "cell_type": "code",
   "execution_count": null,
   "id": "951228ea",
   "metadata": {},
   "outputs": [],
   "source": [
    "outs = f'risedec_{model}_{run:02d}.csv'"
   ]
  },
  {
   "cell_type": "code",
   "execution_count": null,
   "id": "f769bec8",
   "metadata": {},
   "outputs": [],
   "source": [
    "dfs.to_csv(outs)"
   ]
  },
  {
   "cell_type": "code",
   "execution_count": null,
   "id": "8edc7eee",
   "metadata": {},
   "outputs": [],
   "source": []
  }
 ],
 "metadata": {
  "kernelspec": {
   "display_name": "Python 3 (ipykernel)",
   "language": "python",
   "name": "python3"
  },
  "language_info": {
   "codemirror_mode": {
    "name": "ipython",
    "version": 3
   },
   "file_extension": ".py",
   "mimetype": "text/x-python",
   "name": "python",
   "nbconvert_exporter": "python",
   "pygments_lexer": "ipython3",
   "version": "3.9.12"
  }
 },
 "nbformat": 4,
 "nbformat_minor": 5
}
