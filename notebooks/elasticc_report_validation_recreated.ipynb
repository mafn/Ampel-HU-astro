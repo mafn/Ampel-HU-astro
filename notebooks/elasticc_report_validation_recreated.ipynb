{
 "cells": [
  {
   "cell_type": "markdown",
   "id": "f956ac11",
   "metadata": {},
   "source": [
    "Investigate how well the final report unit works.\n",
    "- Retrieve T2ElasticcReport output (possibly together with redshift and ndet.\n",
    "- Select one of the elasticc submission channel.\n",
    "- Find out which simulation classes this corresponded to.\n",
    "- For channels correspond to these:\n",
    "- Study the fraction of all the different models. Possibly also do this as a function of\n",
    "number of detections and/or redshift."
   ]
  },
  {
   "cell_type": "code",
   "execution_count": null,
   "id": "45a01656",
   "metadata": {},
   "outputs": [],
   "source": [
    "import pymongo\n",
    "import numpy as np\n",
    "import pandas as pd\n",
    "import matplotlib.pyplot as plt\n",
    "from extcats import CatalogQuery\n",
    "from scipy.stats import binned_statistic"
   ]
  },
  {
   "cell_type": "code",
   "execution_count": null,
   "id": "66bca0b7",
   "metadata": {},
   "outputs": [],
   "source": [
    "client = pymongo.MongoClient()"
   ]
  },
  {
   "cell_type": "code",
   "execution_count": null,
   "id": "94e0045a",
   "metadata": {},
   "outputs": [],
   "source": [
    "db = client.ElasticcReportValidation"
   ]
  },
  {
   "cell_type": "code",
   "execution_count": null,
   "id": "06354f7e",
   "metadata": {},
   "outputs": [],
   "source": [
    "col = db.t2"
   ]
  },
  {
   "cell_type": "code",
   "execution_count": null,
   "id": "1fef9d0a",
   "metadata": {},
   "outputs": [],
   "source": [
    "# What do we need?\n",
    "# df_det['ndet'][(df_det['link']==t2info['link']) & (df_det['stock']==b['stock'])]\n",
    "det = []\n",
    "for t2info in col.find({'unit':'T2TabulatorRiseDecline'}):\n",
    "    b = {}\n",
    "    b['stock'] = t2info['stock']\n",
    "    b['link'] = t2info['link']\n",
    "    b['ndet'] = t2info['body'][-1]['ndet']\n",
    "    b['channel'] = t2info['channel']\n",
    "    if b['ndet'] == 0:\n",
    "        b['alldet'] = t2info['body'][-1]['alldet']\n",
    "        b['nnegdet'] = t2info['body'][-1]['nnegdet']\n",
    "    det.append(b)"
   ]
  },
  {
   "cell_type": "code",
   "execution_count": null,
   "id": "ea305dbc",
   "metadata": {},
   "outputs": [],
   "source": [
    "df_det = pd.DataFrame.from_dict(det)"
   ]
  },
  {
   "cell_type": "code",
   "execution_count": null,
   "id": "9e3e5c57",
   "metadata": {},
   "outputs": [],
   "source": [
    "df_det.shape"
   ]
  },
  {
   "cell_type": "code",
   "execution_count": null,
   "id": "c6ca11c2",
   "metadata": {},
   "outputs": [],
   "source": [
    "reports = []"
   ]
  },
  {
   "cell_type": "code",
   "execution_count": null,
   "id": "1db1b7d7",
   "metadata": {},
   "outputs": [],
   "source": [
    "for t2info in col.find({'unit':'T2ElasticcReport'}):\n",
    "    b = {}\n",
    "    b['stock'] = t2info['stock']\n",
    "    b['link'] = t2info['link']\n",
    "    # ndet\n",
    "    b['ndet'] = int( df_det['ndet'][(df_det['link']==t2info['link']) & (df_det['stock']==b['stock'])] )\n",
    "    if b['ndet']==0:\n",
    "        b['alldet'] = int( df_det['alldet'][(df_det['link']==t2info['link']) & (df_det['stock']==b['stock'])] )\n",
    "        b['nnegdet'] = int( df_det['nnegdet'][(df_det['link']==t2info['link']) & (df_det['stock']==b['stock'])] )\n",
    "        \n",
    "    b['channel'] = t2info['channel'][0]\n",
    "    if 'body' not in t2info.keys():\n",
    "        print('Failed run - enough to care about?')\n",
    "        print(t2info)\n",
    "        continue\n",
    "    if 'classifications' not in t2info['body'][-1]['report']:\n",
    "        print('No classification?')\n",
    "        print(t2info)\n",
    "        continue\n",
    "    for classification in t2info['body'][-1]['report']['classifications']:\n",
    "        b[ classification['classId'] ] = classification['probability']\n",
    "    reports.append( b )"
   ]
  },
  {
   "cell_type": "code",
   "execution_count": null,
   "id": "98657930",
   "metadata": {},
   "outputs": [],
   "source": [
    "df_rep = pd.DataFrame.from_dict(reports)"
   ]
  },
  {
   "cell_type": "code",
   "execution_count": null,
   "id": "1c1bb179",
   "metadata": {},
   "outputs": [],
   "source": [
    "df_rep.shape"
   ]
  },
  {
   "cell_type": "code",
   "execution_count": null,
   "id": "f5c3db5f",
   "metadata": {},
   "outputs": [],
   "source": [
    "df_rep['channel'].unique()"
   ]
  },
  {
   "cell_type": "code",
   "execution_count": null,
   "id": "8e0fd58b",
   "metadata": {},
   "outputs": [],
   "source": [
    "modelmap = {'agn':'AGN', 'cart':'CART','ulenssinglepylima':'uLens', 'slsnihost':'SLSN', \n",
    " 'dwarfnova':'dwarf-nova', 'ulensbinary':'uLens', 'slsninohost':'SLSN', 'eb':'EB',\n",
    "    'snia91bg':'SNIa91bg', 'ulenssinglegenlens':'uLens', 'sniasalt2':'SNIa', 'ilot':'ILOT', \n",
    " 'sniax':'SNIax', 'tde':'TDE', 'knb19':'KN',\n",
    "       'sniibhostxtv19':'SNII', 'knk17':'KN', 'snibhostxtv19':'SNIbc', \n",
    " 'mdwarfflare':'Mdwarf-flare', 'pisn':'PISN',\n",
    "       'sniitemplates':'SNII', 'rrl':'RRL', 'snibtemplates':'SNIbc', 'snicblhostxtv19':'SNIbc',\n",
    "       'snichostxtv19':'SNIbc', 'snictemplates':'SNIbc', 'sniihostxtv19':'SNII',\n",
    "       'sniinhostxtv19':'SNII', 'sniinmf':'SNII', 'sniinmosfit':'SNII', 'dsct':'DSC', \n",
    " 'cepheid':'Cepheid'}"
   ]
  },
  {
   "cell_type": "code",
   "execution_count": null,
   "id": "8f871c5b",
   "metadata": {},
   "outputs": [],
   "source": [
    "df_rep['model'] = df_rep['channel'].map(modelmap)"
   ]
  },
  {
   "cell_type": "code",
   "execution_count": null,
   "id": "cf028b77",
   "metadata": {},
   "outputs": [],
   "source": [
    "df_rep"
   ]
  },
  {
   "cell_type": "markdown",
   "id": "31984de7",
   "metadata": {},
   "source": [
    "First question - for each model, how many objects and what fraction of these have redshifts?"
   ]
  },
  {
   "cell_type": "code",
   "execution_count": null,
   "id": "e9544520",
   "metadata": {},
   "outputs": [],
   "source": []
  },
  {
   "cell_type": "code",
   "execution_count": null,
   "id": "7ba208da",
   "metadata": {},
   "outputs": [],
   "source": []
  },
  {
   "cell_type": "code",
   "execution_count": null,
   "id": "7ccb90ef",
   "metadata": {},
   "outputs": [],
   "source": [
    "df_rep = df_rep.fillna(value=0)"
   ]
  },
  {
   "cell_type": "code",
   "execution_count": null,
   "id": "d0037eec",
   "metadata": {},
   "outputs": [],
   "source": [
    "# Store for comparison after updating T2ElasticcReport\n",
    "#df_rep.to_csv('df_ref_ereportm2.csv')\n",
    "# Store second version, with only small updates to T2ElasticcReport.\n",
    "#df_rep.to_csv('df_ref_ereportm3.csv')\n",
    "# Store third version, where features calc based on limited set of obs + original Report.\n",
    "#df_rep.to_csv('df_ref_ereportm4.csv')\n",
    "# Store version where featurecalc limited at 20 ndet + original Report.\n",
    "# df_rep.to_csv('df_ref_ereportm5.csv')\n",
    "# Recalculated after adding treatment of negative detections and allowing z to be None\n",
    "# df_rep.to_csv('df_ref_ereportm6.csv')\n",
    "# Recalculated after adding priors\n",
    "df_rep.to_csv('df_ref_ereportm9.csv')\n"
   ]
  },
  {
   "cell_type": "code",
   "execution_count": null,
   "id": "d084d6bb",
   "metadata": {},
   "outputs": [],
   "source": [
    "def getmeanstd(ndet, prob, bins):\n",
    "    foo = binned_statistic(ndet, prob, statistic='mean',bins=bins)\n",
    "    means = foo.statistic\n",
    "    foo = binned_statistic(ndet, prob, statistic='std',bins=bins)\n",
    "    stds = foo.statistic\n",
    "    return means, stds"
   ]
  },
  {
   "cell_type": "code",
   "execution_count": null,
   "id": "ff2fe93f",
   "metadata": {},
   "outputs": [],
   "source": [
    "report_taxonomy = {\n",
    "    'SLSN':  131,\n",
    "    'SNII':  113,\n",
    "    'SNIa':  111,\n",
    "#    'Ia':  111,\n",
    "    'SNIbc': 112,\n",
    "    'TDE':  132,\n",
    "    'CART': 134,\n",
    "    'ILOT': 133,\n",
    "    'Mdwarf-flare': 122,\n",
    "    'PISN': 135,\n",
    "    'KN': 121,\n",
    "    'SLSN-I': 131,\n",
    "#    '91bg': 115,\n",
    "    'SNIa91bg': 115,\n",
    "    'SNIax': 114,\n",
    "#    'Iax': 114,\n",
    "    'dwarf-nova': 123,\n",
    "    'uLens': 124,\n",
    "    'Cepheid': 211,\n",
    "    'EB': 214,\n",
    "    'RRL': 212,\n",
    "    'DSC': 213,\n",
    "#    'LPV':215,  not in simulation\n",
    "    'AGN':221,\n",
    "#    'AGB':221,\n",
    "    }"
   ]
  },
  {
   "cell_type": "markdown",
   "id": "4f3ae90f",
   "metadata": {},
   "source": [
    "Next stage: Try to evalute one of the models."
   ]
  },
  {
   "cell_type": "code",
   "execution_count": null,
   "id": "4bd3c433",
   "metadata": {},
   "outputs": [],
   "source": [
    "model = 'SLSN'"
   ]
  },
  {
   "cell_type": "code",
   "execution_count": null,
   "id": "976443c5",
   "metadata": {},
   "outputs": [],
   "source": [
    "modelid = report_taxonomy[model]"
   ]
  },
  {
   "cell_type": "code",
   "execution_count": null,
   "id": "755c62f6",
   "metadata": {},
   "outputs": [],
   "source": [
    "df_mod = df_rep[df_rep['model']==model]"
   ]
  },
  {
   "cell_type": "code",
   "execution_count": null,
   "id": "78bdd1e8",
   "metadata": {},
   "outputs": [],
   "source": [
    "ndet = df_mod['ndet']"
   ]
  },
  {
   "cell_type": "code",
   "execution_count": null,
   "id": "b888f9da",
   "metadata": {},
   "outputs": [],
   "source": [
    "# Get the full specific model\n",
    "try:\n",
    "    pfull = df_mod[modelid]\n",
    "except KeyError:\n",
    "    pfull = np.zeros(len(ndet))"
   ]
  },
  {
   "cell_type": "code",
   "execution_count": null,
   "id": "f72564bb",
   "metadata": {},
   "outputs": [],
   "source": [
    "# Get a list of columns corresponding to the next stage\n"
   ]
  },
  {
   "cell_type": "code",
   "execution_count": null,
   "id": "dffb698f",
   "metadata": {},
   "outputs": [],
   "source": [
    "try:\n",
    "    s = list( set([d for d in report_taxonomy.values() if str(d)[0:2]==str(modelid)[0:2]]) )\n",
    "    pgroup = df_mod[s].sum(axis=1)\n",
    "except KeyError:\n",
    "    print('recurring?')\n",
    "    s = list( set([d for d in [21,22] if str(d)[0:2]==str(modelid)[0:2]]) )    \n",
    "    pgroup = df_mod[s].sum(axis=1)"
   ]
  },
  {
   "cell_type": "code",
   "execution_count": null,
   "id": "baa9e1a6",
   "metadata": {},
   "outputs": [],
   "source": [
    "s"
   ]
  },
  {
   "cell_type": "code",
   "execution_count": null,
   "id": "6dfa6c4b",
   "metadata": {},
   "outputs": [],
   "source": [
    "try:\n",
    "    s = list( set([d for d in report_taxonomy.values() if str(d)[0]==str(modelid)[0]]) )\n",
    "    pside = df_mod[s].sum(axis=1)\n",
    "except KeyError:\n",
    "    print('Recurring?')\n",
    "    s = list( set([d for d in [21,22] if str(d)[0]==str(modelid)[0]]) )\n",
    "    pside = df_mod[s].sum(axis=1)\n",
    "    "
   ]
  },
  {
   "cell_type": "code",
   "execution_count": null,
   "id": "16e6b279",
   "metadata": {},
   "outputs": [],
   "source": [
    "s"
   ]
  },
  {
   "cell_type": "code",
   "execution_count": null,
   "id": "0339d8ab",
   "metadata": {},
   "outputs": [],
   "source": [
    "#  Find the most likely model\n",
    "bestmodel = [21,  22, 1, 134,       133,       121,       122,       135,\n",
    "             131, 113, 111, 115, 114, 112,\n",
    "            132,       123,       124, 0]"
   ]
  },
  {
   "cell_type": "code",
   "execution_count": null,
   "id": "7d233619",
   "metadata": {},
   "outputs": [],
   "source": [
    "bestmod_id = df_mod[bestmodel].idxmax(axis=1)"
   ]
  },
  {
   "cell_type": "code",
   "execution_count": null,
   "id": "666bc1d4",
   "metadata": {},
   "outputs": [],
   "source": [
    "if modelid<200:\n",
    "    pbestmod = (bestmod_id==modelid)\n",
    "elif modelid<220:\n",
    "    pbestmod = (bestmod_id==21)\n",
    "else:\n",
    "    pbestmod = (bestmod_id==22)"
   ]
  },
  {
   "cell_type": "code",
   "execution_count": null,
   "id": "9bdb85b1",
   "metadata": {},
   "outputs": [],
   "source": [
    "pnone = (df_mod[0]==1)"
   ]
  },
  {
   "cell_type": "code",
   "execution_count": null,
   "id": "a3115ff5",
   "metadata": {},
   "outputs": [],
   "source": [
    "# Fraction of none replies\n",
    "sum(pnone) / len(pnone)"
   ]
  },
  {
   "cell_type": "code",
   "execution_count": null,
   "id": "070ee7e6",
   "metadata": {},
   "outputs": [],
   "source": [
    "# Cut all rows where no answer given?\n",
    "#ndet = ndet[~pnone]\n",
    "#pfull = pfull[~pnone]\n",
    "#pgroup = pgroup[~pnone]\n",
    "#pside = pside[~pnone]\n",
    "#pbestmod = pbestmod[~pnone]\n",
    "#pnone = pnone[~pnone]\n"
   ]
  },
  {
   "cell_type": "markdown",
   "id": "5911dd6c",
   "metadata": {},
   "source": [
    "We now have four arrays to work with: ndet, pfull, pgroup, pside, pnone. \n",
    "Let us see how to plot this...\n",
    "\n",
    "First version is to plot the _average_ of all classifications. Other version might be to check which fraction got more than half prob correct."
   ]
  },
  {
   "cell_type": "code",
   "execution_count": null,
   "id": "fa8dd856",
   "metadata": {},
   "outputs": [],
   "source": [
    "bins = np.quantile(ndet,np.arange(0,1.01,0.05))\n",
    "#bins = np.quantile(ndet,np.arange(0,1.01,0.1))\n",
    "bins= np.unique(bins)\n",
    "plotbins = (bins[0:-1] + bins[1:]) / 2"
   ]
  },
  {
   "cell_type": "code",
   "execution_count": null,
   "id": "51277bca",
   "metadata": {},
   "outputs": [],
   "source": [
    "mside, sside = getmeanstd(ndet, pside, bins)\n",
    "mgroup, sgroup = getmeanstd(ndet, pgroup, bins)\n",
    "mfull, sfull = getmeanstd(ndet, pfull, bins)\n",
    "mbest, sbest = getmeanstd(ndet, pbestmod, bins)"
   ]
  },
  {
   "cell_type": "code",
   "execution_count": null,
   "id": "6aa764d5",
   "metadata": {},
   "outputs": [],
   "source": [
    "try:\n",
    "    plt.plot(plotbins, mfull, '-o', label=model)\n",
    "except ValueError:\n",
    "    print('No single model run?')\n",
    "plt.plot(plotbins, mgroup, '-o', label='Category')\n",
    "plt.plot(plotbins, mside, '-o', label='Recurring?')\n",
    "plt.plot(plotbins, mbest, '-o', label='IsBestchoice')\n",
    "\n",
    "\n",
    "plt.ylabel('Probability')\n",
    "plt.xlabel('Nbr detections')\n",
    "plt.legend(loc='best')\n",
    "plt.savefig('/home/jnordin/tmp/'+model+'.pdf',dpi=200)"
   ]
  },
  {
   "cell_type": "markdown",
   "id": "56f5d070",
   "metadata": {},
   "source": [
    "Now look at the cases with null detections - can we say something about that?"
   ]
  },
  {
   "cell_type": "code",
   "execution_count": null,
   "id": "1a5041fc",
   "metadata": {},
   "outputs": [],
   "source": [
    "df_zero = df_rep[df_rep['ndet']==0].copy()"
   ]
  },
  {
   "cell_type": "code",
   "execution_count": null,
   "id": "42c8726d",
   "metadata": {},
   "outputs": [],
   "source": [
    "df_zero['nfrac'] = df_zero['nnegdet'] / df_zero['alldet']"
   ]
  },
  {
   "cell_type": "code",
   "execution_count": null,
   "id": "711af4c2",
   "metadata": {},
   "outputs": [],
   "source": [
    "plt.figure()\n",
    "for model in df_zero['model'].unique():\n",
    "    dfs = df_zero[(df_zero['model']==model) & (df_zero['nnegdet']>0) & (df_zero['nnegdet']>30)]\n",
    "    print(model, len(dfs['alldet']))\n",
    "    if len(dfs['alldet'])<10:\n",
    "        continue\n",
    "    \n",
    "    plt.plot(dfs['alldet'],dfs['nnegdet'],'o',label=model)\n",
    "\n",
    "plt.xlabel('All detections')\n",
    "plt.ylabel('Neg detections')\n",
    "plt.legend(loc='best')\n",
    "    \n",
    "#df_zero[ ['model','alldet', 'nnegdet']]"
   ]
  },
  {
   "cell_type": "markdown",
   "id": "1c6e9989",
   "metadata": {},
   "source": [
    "The vast majority of events with one more negative significant detections are EBs, uLens or AGN. One could say:\n",
    "    - >1 neg detection + z>0 : AGN\n",
    "    - >30 neg detections +z=0: uLens\n",
    "    - Otherwise uLens or EB"
   ]
  },
  {
   "cell_type": "code",
   "execution_count": null,
   "id": "84a827e8",
   "metadata": {},
   "outputs": [],
   "source": [
    "plt.figure(figsize=(12,10))\n",
    "for model in df_zero['model'].unique():\n",
    "    dfs = df_zero[(df_zero['model']==model) & (df_zero['nnegdet']>-1) & (df_zero['nfrac']<0.2)]\n",
    "#    if len(dfs['alldet'])<10:\n",
    "#        continue\n",
    "    print(model, len(dfs['alldet']))\n",
    "    \n",
    "    plt.plot(dfs['alldet'],dfs['nfrac'],'o',label=model)\n",
    "\n",
    "plt.xlabel('All detections')\n",
    "plt.ylabel('Fraction of neg detections')\n",
    "plt.legend(loc='best')"
   ]
  },
  {
   "cell_type": "markdown",
   "id": "2df30d66",
   "metadata": {},
   "source": [
    "Or, probably better:\n",
    "    - >0 neg detection + z>0 : AGN\n",
    "    - >0 neg detection, z=0, frac_neg>0.2: uLens\n",
    "    - >0 neg detection, z=0, frac_neg<0.2: periodic\n",
    "    "
   ]
  },
  {
   "cell_type": "markdown",
   "id": "a1b5c4d6",
   "metadata": {},
   "source": [
    "How could this be implemented? Would require output from both redshift sampler and T2RiseDecline to be available. Cheat solution would be to add this in T2Xgb? Ugly but fastest..."
   ]
  },
  {
   "cell_type": "code",
   "execution_count": null,
   "id": "e6d913ba",
   "metadata": {},
   "outputs": [],
   "source": []
  }
 ],
 "metadata": {
  "kernelspec": {
   "display_name": "Python 3 (ipykernel)",
   "language": "python",
   "name": "python3"
  },
  "language_info": {
   "codemirror_mode": {
    "name": "ipython",
    "version": 3
   },
   "file_extension": ".py",
   "mimetype": "text/x-python",
   "name": "python",
   "nbconvert_exporter": "python",
   "pygments_lexer": "ipython3",
   "version": "3.9.12"
  }
 },
 "nbformat": 4,
 "nbformat_minor": 5
}
